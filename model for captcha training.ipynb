{
 "cells": [
  {
   "cell_type": "markdown",
   "id": "70146c62",
   "metadata": {},
   "source": [
    "# importing libraries"
   ]
  },
  {
   "cell_type": "code",
   "execution_count": null,
   "id": "e9b0c089",
   "metadata": {},
   "outputs": [],
   "source": [
    "import os\n",
    "import numpy as np\n",
    "import glob\n",
    "import torch\n",
    "import torch.nn as nn\n",
    "import torch.optim as optim\n",
    "from torchvision.transforms import transforms \n",
    "from torch.utils.data import DataLoader\n",
    "from torch.utils.data import Dataset\n",
    "import pathlib\n",
    "import torchvision\n",
    "import matplotlib.pyplot as plt\n",
    "import torch.nn.functional as F\n",
    "from pprint import pprint\n",
    "import torchinfo\n",
    "from torch.autograd import Variable\n",
    "from pytorch_model_summary import summary\n",
    "from tqdm import tqdm\n",
    "import random\n",
    "from torchvision.utils import make_grid\n",
    "import torchvision.transforms.functional as TF\n",
    "import cv2"
   ]
  },
  {
   "cell_type": "code",
   "execution_count": null,
   "id": "84053f87",
   "metadata": {},
   "outputs": [],
   "source": [
    "device = torch.device('cuda' if torch.cuda.is_available() else 'cpu')\n",
    "print(device)"
   ]
  },
  {
   "cell_type": "code",
   "execution_count": null,
   "id": "a5fba485",
   "metadata": {},
   "outputs": [],
   "source": [
    "# transformation\n",
    "transformer = transforms.Compose([\n",
    "    transforms.Grayscale(),\n",
    "    transforms.ToTensor(),\n",
    "    transforms.Normalize([0.5], [0.5]),\n",
    "])"
   ]
  },
  {
   "cell_type": "markdown",
   "id": "fd3a05f8",
   "metadata": {},
   "source": [
    "# path to dataset"
   ]
  },
  {
   "cell_type": "code",
   "execution_count": null,
   "id": "6f97b3b8",
   "metadata": {},
   "outputs": [],
   "source": [
    "train_path = # path to training dataset \n",
    "test_path = # path to testing dataset \n",
    "\n",
    "train_loader = DataLoader(\n",
    "    torchvision.datasets.ImageFolder(train_path, transform=transformer),\n",
    "    batch_size = 16,\n",
    "    shuffle = True,\n",
    "    num_workers=4,\n",
    "    pin_memory=True,\n",
    "    )\n",
    "test_loader = DataLoader(\n",
    "    torchvision.datasets.ImageFolder(test_path, transform=transformer),\n",
    "    shuffle = False,\n",
    "    num_workers=4,\n",
    "    pin_memory=True\n",
    "    )"
   ]
  },
  {
   "cell_type": "markdown",
   "id": "7893077a",
   "metadata": {},
   "source": [
    "# label dictionary"
   ]
  },
  {
   "cell_type": "code",
   "execution_count": null,
   "id": "a568fc56",
   "metadata": {},
   "outputs": [],
   "source": [
    "labels_map = {\n",
    "    0: \"2\", 1: \"3\", 2: \"4\", 3: \"5\", 4: \"6\", 5: \"7\", 6: \"8\", 7: \"9\", 8: \"A\", 9: \"B\", 10: \"C\", 11: \"D\", 12: \"E\", 13: \"F\", \n",
    "    14: \"G\", 15: \"H\", 16: \"J\", 17: \"K\", 18: \"L\", 19: \"M\", 20: \"P\", 21: \"Q\", 22: \"R\", 23: \"S\", 24: \"T\", 25: \"U\", 26: \"V\", \n",
    "    27: \"W\",28: \"X\", 29: \"Y\", 30: \"a\", 31: \"b\", 32: \"c\", 33:  \"d\", 34: \"e\", 35: \"f\", 36: \"h\", 37: \"j\", 38: \"k\", 39: \"m\", \n",
    "    40: \"n\", 41: \"p\", 42: \"q\", 43: \"r\", 44: \"s\", 45: \"t\", 46: \"u\", 47: \"v\", 48: \"w\", 49: \"x\", 50: \"y\",\n",
    "}"
   ]
  },
  {
   "cell_type": "code",
   "execution_count": null,
   "id": "13883412",
   "metadata": {},
   "outputs": [],
   "source": [
    "a = 0\n",
    "fig = plt.figure(figsize=(10, 10))\n",
    "b = np.random.randint(150, 3400)\n",
    "for i in range(4):\n",
    "    img, _ = train_loader.dataset[i*b]\n",
    "    fig.add_subplot(2, 2, a+1)\n",
    "    plt.imshow(img.permute(1, 2, 0), cmap=\"gray\")\n",
    "    a += 1\n",
    "    if a == 4:\n",
    "        a = 0\n",
    "        break\n",
    "        \n",
    "plt.show()"
   ]
  },
  {
   "cell_type": "code",
   "execution_count": null,
   "id": "f232f4fc",
   "metadata": {},
   "outputs": [],
   "source": [
    "# classes\n",
    "root = pathlib.Path(train_path)\n",
    "classes = sorted([j.name.split('/')[-1] for j in root.iterdir()])\n",
    "print(classes)\n",
    "print(len(classes))"
   ]
  },
  {
   "cell_type": "code",
   "execution_count": null,
   "id": "4f6b0e9c",
   "metadata": {},
   "outputs": [],
   "source": [
    "class CNNModel(nn.Module):\n",
    "    def __init__(self):\n",
    "        super(CNNModel, self).__init__()\n",
    "        self.network = nn.Sequential(\n",
    "            nn.Conv2d(1, 64, kernel_size=3, stride=1, padding=1),\n",
    "            nn.MaxPool2d(2, 2),\n",
    "            nn.Dropout(0.4),\n",
    "            nn.ReLU(),  \n",
    "            nn.Conv2d(64, 64, kernel_size=3, stride=1, padding=1),\n",
    "            nn.MaxPool2d(2, 2),\n",
    "            nn.Dropout(0.4),\n",
    "            nn.ReLU(),\n",
    "            nn.Conv2d(64, 128, kernel_size=3, stride=1, padding=1),\n",
    "            nn.Dropout(0.4),\n",
    "            nn.ReLU(),\n",
    "            nn.Flatten(),\n",
    "            nn.Linear(8192, 128),\n",
    "            nn.Dropout(0.4),\n",
    "            nn.ReLU(),\n",
    "            nn.Linear(128, 256),\n",
    "            nn.Dropout(0.4),\n",
    "            nn.ReLU(),\n",
    "            nn.Linear(256, 51),\n",
    "            nn.LogSoftmax(dim=1)\n",
    "        )\n",
    "    def forward(self, x):\n",
    "        x = self.network(x)\n",
    "        return x"
   ]
  },
  {
   "cell_type": "code",
   "execution_count": null,
   "id": "e3862e3e",
   "metadata": {},
   "outputs": [],
   "source": [
    "model = CNNModel().to(device)"
   ]
  },
  {
   "cell_type": "code",
   "execution_count": null,
   "id": "7c4f26f7",
   "metadata": {},
   "outputs": [],
   "source": [
    "pprint(torchinfo.summary(model, input_size=(1, 1, 35, 35)))"
   ]
  },
  {
   "cell_type": "code",
   "execution_count": null,
   "id": "b8c50edf",
   "metadata": {},
   "outputs": [],
   "source": [
    "optimizer = optim.Adam(model.parameters(), lr=0.001)\n",
    "loss_fn = nn.CrossEntropyLoss()"
   ]
  },
  {
   "cell_type": "code",
   "execution_count": null,
   "id": "de2716af",
   "metadata": {},
   "outputs": [],
   "source": [
    "train_count = len(glob.glob(train_path + '/**/*.png'))\n",
    "test_count = len(glob.glob(test_path + '/**/*.png'))\n",
    "print(train_count)\n",
    "print(test_count)"
   ]
  },
  {
   "cell_type": "code",
   "execution_count": null,
   "id": "34bd199b",
   "metadata": {},
   "outputs": [],
   "source": [
    "print(train_loader.dataset)"
   ]
  },
  {
   "cell_type": "markdown",
   "id": "e23066f9",
   "metadata": {},
   "source": [
    "# training model"
   ]
  },
  {
   "cell_type": "code",
   "execution_count": null,
   "id": "a3e3f0b6",
   "metadata": {},
   "outputs": [],
   "source": [
    "epochs = 10\n",
    "acc = 0.0\n",
    "\n",
    "for epoch in range(epochs):\n",
    "    model.train()\n",
    "    train_acc = 0.0\n",
    "    train_loss = 0.0\n",
    "    for i, (images, labels) in enumerate(train_loader):\n",
    "        images = Variable(images.cuda())\n",
    "        labels = Variable(labels.cuda())\n",
    "        optimizer.zero_grad()\n",
    "        outputs = model(images)\n",
    "        loss = loss_fn(outputs, labels)\n",
    "        loss.backward()\n",
    "        optimizer.step()\n",
    "        train_loss += loss.cpu().data*images.size(0)\n",
    "        _, prediction = torch.max(outputs.data, 1)\n",
    "        train_acc += int(torch.sum(prediction == labels.data))\n",
    "    train_acc = train_acc/train_count\n",
    "    train_loss = train_loss/train_count\n",
    "    model.eval()\n",
    "    test_acc = 0\n",
    "    print('|----------------------------------------------------------------------------------------|')\n",
    "    for i, (images, labels)in enumerate(test_loader):\n",
    "        images = Variable(images.cuda())\n",
    "        labels = Variable(labels.cuda())\n",
    "        outputs = model(images)\n",
    "        _, prediction = torch.max(outputs.data, 1)\n",
    "        test_acc += int(torch.sum(prediction == labels.data))\n",
    "    test_acc = test_acc/test_count\n",
    "    print(f'epoch {epoch+1} training loss {train_loss} training accuracy {train_acc}')\n",
    "    print(f'testing accuracy {test_acc}')"
   ]
  },
  {
   "cell_type": "code",
   "execution_count": null,
   "id": "51098046",
   "metadata": {},
   "outputs": [],
   "source": [
    "print(train_acc)"
   ]
  },
  {
   "cell_type": "code",
   "execution_count": null,
   "id": "c54dd662",
   "metadata": {},
   "outputs": [],
   "source": [
    "print(train_loss)"
   ]
  },
  {
   "cell_type": "code",
   "execution_count": null,
   "id": "3f01e07f",
   "metadata": {},
   "outputs": [],
   "source": [
    "a = 0\n",
    "fig = plt.figure(figsize=(5, 5))\n",
    "b = np.random.randint(90, 900)\n",
    "b1 = np.random.randint(50, 100)\n",
    "for i in range(4):\n",
    "    img, _ = test_loader.dataset[i*b1]\n",
    "    img1 = img.unsqueeze(0)\n",
    "    print(img1.shape)\n",
    "    img1 = Variable(img1.cuda())\n",
    "    outputs = model(img1)\n",
    "    _, prediction = torch.max(outputs.data, 1)\n",
    "    fig.add_subplot(2, 2, a+1)\n",
    "    plt.imshow(img.permute(1, 2, 0), cmap=\"gray\")\n",
    "    plt.title(labels_map[prediction.item()])\n",
    "    a += 1\n",
    "    if a == 4:\n",
    "        a = 0\n",
    "        break\n",
    "        \n",
    "plt.show()"
   ]
  },
  {
   "cell_type": "markdown",
   "id": "72607e8d",
   "metadata": {},
   "source": [
    "# saving the model"
   ]
  },
  {
   "cell_type": "code",
   "execution_count": null,
   "id": "f481f385",
   "metadata": {},
   "outputs": [],
   "source": [
    "torch.save(model.state_dict(), 'captcha_model.pth')"
   ]
  }
 ],
 "metadata": {
  "kernelspec": {
   "display_name": "Python 3.7 (pytorch)",
   "language": "python",
   "name": "pytorch"
  },
  "language_info": {
   "codemirror_mode": {
    "name": "ipython",
    "version": 3
   },
   "file_extension": ".py",
   "mimetype": "text/x-python",
   "name": "python",
   "nbconvert_exporter": "python",
   "pygments_lexer": "ipython3",
   "version": "3.7.11"
  }
 },
 "nbformat": 4,
 "nbformat_minor": 5
}
